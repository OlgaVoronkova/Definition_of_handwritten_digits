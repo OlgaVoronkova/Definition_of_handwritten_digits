{
  "nbformat": 4,
  "nbformat_minor": 0,
  "metadata": {
    "colab": {
      "provenance": [],
      "collapsed_sections": [],
      "authorship_tag": "ABX9TyOrFHAF17X/4j6LHP3/8soF",
      "include_colab_link": true
    },
    "kernelspec": {
      "name": "python3",
      "display_name": "Python 3"
    },
    "language_info": {
      "name": "python"
    },
    "accelerator": "GPU",
    "gpuClass": "standard"
  },
  "cells": [
    {
      "cell_type": "markdown",
      "metadata": {
        "id": "view-in-github",
        "colab_type": "text"
      },
      "source": [
        "<a href=\"https://colab.research.google.com/github/OlgaVoronkova/Definition_of_handwritten_digits/blob/main/Definition_of_handwritten_digits_(old).ipynb\" target=\"_parent\"><img src=\"https://colab.research.google.com/assets/colab-badge.svg\" alt=\"Open In Colab\"/></a>"
      ]
    },
    {
      "cell_type": "code",
      "execution_count": 1,
      "metadata": {
        "id": "E1f9QO7K782C"
      },
      "outputs": [],
      "source": [
        "from tensorflow.keras.datasets import mnist #Библиотека с базой Mnist\n",
        "from tensorflow.keras.models import Sequential # Подлючаем класс создания модели Sequential\n",
        "from tensorflow.keras.layers import Dense, Conv2D, MaxPooling2D, Flatten, Dropout, BatchNormalization # Подключаем класс Dense - полносвязный слой\n",
        "from tensorflow.keras.optimizers import Adam, Adadelta # Подключаем оптимизатор Adam\n",
        "from tensorflow.keras import utils #Утилиты для to_categorical\n",
        "from tensorflow.keras.preprocessing import image #Для отрисовки изображения\n",
        "import numpy as np # Подключаем библиотеку numpy\n",
        "import pylab # Модуль для построения графиков\n",
        "from mpl_toolkits.mplot3d import Axes3D # Модуль для трехмерной графики\n",
        "from google.colab import files #Для загрузки своей картинки\n",
        "import matplotlib.pyplot as plt #Отрисовка изображений\n",
        "from PIL import Image #Отрисовка изображений\n",
        "from sklearn.model_selection import train_test_split\n",
        "#Отрисовывать изображения в ноутбуке, а не в консоль или файл\n",
        "import random #Для генерации случайных чисел \n",
        "import math # Для округления\n",
        "import os #Для работы с файлами \n",
        "# подключем диск\n",
        "from google.colab import drive\n",
        "%matplotlib inline "
      ]
    },
    {
      "cell_type": "code",
      "source": [
        "(x_train, y_train), (x_test, y_test) = mnist.load_data()"
      ],
      "metadata": {
        "id": "N6gmyPJx89K_",
        "colab": {
          "base_uri": "https://localhost:8080/"
        },
        "outputId": "be3f662f-8a49-4afd-826b-8e12fdbc494d"
      },
      "execution_count": 2,
      "outputs": [
        {
          "output_type": "stream",
          "name": "stdout",
          "text": [
            "Downloading data from https://storage.googleapis.com/tensorflow/tf-keras-datasets/mnist.npz\n",
            "11493376/11490434 [==============================] - 0s 0us/step\n",
            "11501568/11490434 [==============================] - 0s 0us/step\n"
          ]
        }
      ]
    },
    {
      "cell_type": "code",
      "source": [
        "print(x_train.shape)\n",
        "print(x_test.shape)"
      ],
      "metadata": {
        "colab": {
          "base_uri": "https://localhost:8080/"
        },
        "id": "4iydfplh-IUJ",
        "outputId": "e0d43c44-a40f-4bc7-b0dd-513aa9ea90e7"
      },
      "execution_count": 3,
      "outputs": [
        {
          "output_type": "stream",
          "name": "stdout",
          "text": [
            "(60000, 28, 28)\n",
            "(10000, 28, 28)\n"
          ]
        }
      ]
    },
    {
      "cell_type": "code",
      "source": [
        "print(y_train.shape)\n",
        "print(y_test.shape)"
      ],
      "metadata": {
        "colab": {
          "base_uri": "https://localhost:8080/"
        },
        "id": "YbjtVQmm-_sj",
        "outputId": "1ccce582-607e-4342-d110-1bbc2840f7e7"
      },
      "execution_count": 4,
      "outputs": [
        {
          "output_type": "stream",
          "name": "stdout",
          "text": [
            "(60000,)\n",
            "(10000,)\n"
          ]
        }
      ]
    },
    {
      "cell_type": "code",
      "source": [
        "# Преобразуем ответы в формат one_hot_encoding\n",
        "y_train = utils.to_categorical(y_train, 10)\n",
        "y_test = utils.to_categorical(y_test, 10)\n",
        "\n"
      ],
      "metadata": {
        "id": "QwAmq5Lt_PCY"
      },
      "execution_count": 5,
      "outputs": []
    },
    {
      "cell_type": "code",
      "source": [
        "print(y_train.shape)\n",
        "print(y_test.shape)"
      ],
      "metadata": {
        "colab": {
          "base_uri": "https://localhost:8080/"
        },
        "id": "IGTSFmAR_lt-",
        "outputId": "cb1692dc-6267-499f-eeaf-58acc620b0be"
      },
      "execution_count": 6,
      "outputs": [
        {
          "output_type": "stream",
          "name": "stdout",
          "text": [
            "(60000, 10)\n",
            "(10000, 10)\n"
          ]
        }
      ]
    },
    {
      "cell_type": "code",
      "source": [
        "#Меняем формат входных картинок с 28х28 на 784х1\n",
        "x_train = x_train.reshape(60000, 784)\n",
        "x_test = x_test.reshape(10000, 784)\n",
        "print(x_train.shape)\n",
        "print(x_test.shape)\n"
      ],
      "metadata": {
        "colab": {
          "base_uri": "https://localhost:8080/"
        },
        "id": "StJ0pcLu_oFW",
        "outputId": "13b9641a-28fb-4f13-b1e4-aaa56909fb98"
      },
      "execution_count": 7,
      "outputs": [
        {
          "output_type": "stream",
          "name": "stdout",
          "text": [
            "(60000, 784)\n",
            "(10000, 784)\n"
          ]
        }
      ]
    },
    {
      "cell_type": "code",
      "source": [
        "#Нормализуем входные картинки\n",
        "x_train = x_train.astype('float32') # преобразовываем x_train в тип float (цифры с плавающей точкой)\n",
        "x_train = x_train / 255 # делим на 255, чтобы диапазон был от 0 до 1\n",
        "x_test = x_test.astype('float32') # преобразовываем x_test в тип float (цифры с плавающей точкой)\n",
        "x_test = x_test / 255 # делим на 255, чтобы диапазон был от 0 до 1"
      ],
      "metadata": {
        "id": "w329FxzoBxQN"
      },
      "execution_count": 8,
      "outputs": []
    },
    {
      "cell_type": "code",
      "source": [
        "x_train_n, x_val, y_train_n, y_val = train_test_split(x_train, y_train, test_size = 0.2, shuffle=True)\n",
        "numb_model = Sequential()\n",
        "numb_model.add(Dense(1000, input_dim = 784, activation='relu'))\n",
        "numb_model.add(Dropout(0.2))\n",
        "numb_model.add(BatchNormalization())\n",
        "numb_model.add(Dense(500, activation=\"relu\"))\n",
        "numb_model.add(Dropout(0.4))\n",
        "numb_model.add(BatchNormalization())\n",
        "numb_model.add(Dense(100, activation=\"relu\"))\n",
        "numb_model.add(Dropout(0.4))\n",
        "numb_model.add(BatchNormalization())\n",
        "numb_model.add(Dense(10, activation=\"softmax\"))\n",
        "numb_model.compile(loss=\"categorical_crossentropy\", optimizer=Adam(learning_rate=0.0001), metrics=['accuracy'])\n",
        "numb_model.summary()\n",
        "numb_model.train_on_batch(x_train, y_train)\n",
        "#fit - функция обучения нейронки\n",
        "#x_train, y_train - обучающая выборка, входные и выходные данные\n",
        "#batch_size - размер батча, количество примеров, которое обрабатывает нейронка перед одним изменением весов\n",
        "#epochs - количество эпох, когда нейронка обучается на всех примерах выборки\n",
        "#verbose - 0 - не визуализировать ход обучения, 1 - визуализировать\n",
        "numb_model.fit(x_train_n, y_train_n, batch_size=128, epochs=20, validation_data=(x_val, y_val))"
      ],
      "metadata": {
        "colab": {
          "base_uri": "https://localhost:8080/"
        },
        "outputId": "5f97b98c-612e-4e7e-8b3c-c5a6eebb45f8",
        "id": "8SEusAENeyg-"
      },
      "execution_count": 9,
      "outputs": [
        {
          "output_type": "stream",
          "name": "stdout",
          "text": [
            "Model: \"sequential\"\n",
            "_________________________________________________________________\n",
            " Layer (type)                Output Shape              Param #   \n",
            "=================================================================\n",
            " dense (Dense)               (None, 1000)              785000    \n",
            "                                                                 \n",
            " dropout (Dropout)           (None, 1000)              0         \n",
            "                                                                 \n",
            " batch_normalization (BatchN  (None, 1000)             4000      \n",
            " ormalization)                                                   \n",
            "                                                                 \n",
            " dense_1 (Dense)             (None, 500)               500500    \n",
            "                                                                 \n",
            " dropout_1 (Dropout)         (None, 500)               0         \n",
            "                                                                 \n",
            " batch_normalization_1 (Batc  (None, 500)              2000      \n",
            " hNormalization)                                                 \n",
            "                                                                 \n",
            " dense_2 (Dense)             (None, 100)               50100     \n",
            "                                                                 \n",
            " dropout_2 (Dropout)         (None, 100)               0         \n",
            "                                                                 \n",
            " batch_normalization_2 (Batc  (None, 100)              400       \n",
            " hNormalization)                                                 \n",
            "                                                                 \n",
            " dense_3 (Dense)             (None, 10)                1010      \n",
            "                                                                 \n",
            "=================================================================\n",
            "Total params: 1,343,010\n",
            "Trainable params: 1,339,810\n",
            "Non-trainable params: 3,200\n",
            "_________________________________________________________________\n",
            "Epoch 1/20\n",
            "375/375 [==============================] - 3s 6ms/step - loss: 0.8782 - accuracy: 0.7302 - val_loss: 0.3763 - val_accuracy: 0.9128\n",
            "Epoch 2/20\n",
            "375/375 [==============================] - 2s 5ms/step - loss: 0.3936 - accuracy: 0.8900 - val_loss: 0.2052 - val_accuracy: 0.9422\n",
            "Epoch 3/20\n",
            "375/375 [==============================] - 2s 5ms/step - loss: 0.2867 - accuracy: 0.9210 - val_loss: 0.1558 - val_accuracy: 0.9549\n",
            "Epoch 4/20\n",
            "375/375 [==============================] - 2s 5ms/step - loss: 0.2212 - accuracy: 0.9412 - val_loss: 0.1302 - val_accuracy: 0.9613\n",
            "Epoch 5/20\n",
            "375/375 [==============================] - 2s 5ms/step - loss: 0.1822 - accuracy: 0.9500 - val_loss: 0.1125 - val_accuracy: 0.9664\n",
            "Epoch 6/20\n",
            "375/375 [==============================] - 2s 5ms/step - loss: 0.1498 - accuracy: 0.9595 - val_loss: 0.1001 - val_accuracy: 0.9688\n",
            "Epoch 7/20\n",
            "375/375 [==============================] - 2s 5ms/step - loss: 0.1286 - accuracy: 0.9653 - val_loss: 0.0938 - val_accuracy: 0.9704\n",
            "Epoch 8/20\n",
            "375/375 [==============================] - 2s 5ms/step - loss: 0.1084 - accuracy: 0.9697 - val_loss: 0.0862 - val_accuracy: 0.9744\n",
            "Epoch 9/20\n",
            "375/375 [==============================] - 2s 5ms/step - loss: 0.0948 - accuracy: 0.9737 - val_loss: 0.0776 - val_accuracy: 0.9763\n",
            "Epoch 10/20\n",
            "375/375 [==============================] - 2s 5ms/step - loss: 0.0819 - accuracy: 0.9774 - val_loss: 0.0762 - val_accuracy: 0.9774\n",
            "Epoch 11/20\n",
            "375/375 [==============================] - 2s 5ms/step - loss: 0.0702 - accuracy: 0.9809 - val_loss: 0.0757 - val_accuracy: 0.9787\n",
            "Epoch 12/20\n",
            "375/375 [==============================] - 2s 5ms/step - loss: 0.0615 - accuracy: 0.9824 - val_loss: 0.0728 - val_accuracy: 0.9785\n",
            "Epoch 13/20\n",
            "375/375 [==============================] - 2s 5ms/step - loss: 0.0540 - accuracy: 0.9854 - val_loss: 0.0711 - val_accuracy: 0.9795\n",
            "Epoch 14/20\n",
            "375/375 [==============================] - 2s 5ms/step - loss: 0.0471 - accuracy: 0.9870 - val_loss: 0.0692 - val_accuracy: 0.9801\n",
            "Epoch 15/20\n",
            "375/375 [==============================] - 2s 5ms/step - loss: 0.0418 - accuracy: 0.9880 - val_loss: 0.0693 - val_accuracy: 0.9800\n",
            "Epoch 16/20\n",
            "375/375 [==============================] - 2s 5ms/step - loss: 0.0365 - accuracy: 0.9896 - val_loss: 0.0680 - val_accuracy: 0.9812\n",
            "Epoch 17/20\n",
            "375/375 [==============================] - 2s 5ms/step - loss: 0.0339 - accuracy: 0.9903 - val_loss: 0.0678 - val_accuracy: 0.9803\n",
            "Epoch 18/20\n",
            "375/375 [==============================] - 2s 5ms/step - loss: 0.0309 - accuracy: 0.9917 - val_loss: 0.0654 - val_accuracy: 0.9817\n",
            "Epoch 19/20\n",
            "375/375 [==============================] - 2s 5ms/step - loss: 0.0271 - accuracy: 0.9922 - val_loss: 0.0654 - val_accuracy: 0.9816\n",
            "Epoch 20/20\n",
            "375/375 [==============================] - 2s 5ms/step - loss: 0.0239 - accuracy: 0.9935 - val_loss: 0.0674 - val_accuracy: 0.9818\n"
          ]
        },
        {
          "output_type": "execute_result",
          "data": {
            "text/plain": [
              "<keras.callbacks.History at 0x7f5c4c660f90>"
            ]
          },
          "metadata": {},
          "execution_count": 9
        }
      ]
    },
    {
      "cell_type": "code",
      "source": [
        "scores = numb_model.evaluate(x_test, y_test, verbose=1)\n",
        "print(scores)"
      ],
      "metadata": {
        "colab": {
          "base_uri": "https://localhost:8080/"
        },
        "id": "4VUh9TVZE03M",
        "outputId": "3256184c-49be-4c03-b19e-c0d92d2e9890"
      },
      "execution_count": 10,
      "outputs": [
        {
          "output_type": "stream",
          "name": "stdout",
          "text": [
            "313/313 [==============================] - 1s 3ms/step - loss: 0.0588 - accuracy: 0.9816\n",
            "[0.0587843619287014, 0.9815999865531921]\n"
          ]
        }
      ]
    },
    {
      "cell_type": "code",
      "source": [
        "numb_model.save_weights('numb_model.1')\n",
        "numb_model.load_weights('numb_model.1')\n",
        "number_7 = image.load_img(\"/content/number_7.jpg\", target_size=(28, 28), color_mode = 'grayscale')\n",
        "number_8 = image.load_img(\"/content/number_8.jpg\", target_size=(28, 28), color_mode = 'grayscale')"
      ],
      "metadata": {
        "id": "cgQooDRCVb5Z"
      },
      "execution_count": 11,
      "outputs": []
    },
    {
      "cell_type": "code",
      "source": [
        "number = image.img_to_array(number_7)\n",
        "number8 = image.img_to_array(number_8)\n",
        "number_r = number.reshape(1, 784)\n",
        "number8_r = number8.reshape(1, 784)\n",
        "number_r = number_r.astype('float32')\n",
        "number_r = number_r / 255 \n",
        "number8_r = number8_r.astype('float32')\n",
        "number8_r = number8_r / 255 \n",
        "prediction = numb_model.predict(number_r) \n",
        "prediction8 = numb_model.predict(number8_r) \n",
        "print(prediction)\n",
        "print(prediction8)\n",
        "prediction = np.argmax(prediction) # Получаем индекс самого большого элемента (это итоговая цифра, которую распознала сеть)\n",
        "print(prediction)\n",
        "prediction8 = np.argmax(prediction8) # Получаем индекс самого большого элемента (это итоговая цифра, которую распознала сеть)\n",
        "print(prediction8)"
      ],
      "metadata": {
        "id": "-xrmGyYXcRzE",
        "colab": {
          "base_uri": "https://localhost:8080/"
        },
        "outputId": "a65dc157-087b-429c-ead0-39bc25673397"
      },
      "execution_count": 12,
      "outputs": [
        {
          "output_type": "stream",
          "name": "stdout",
          "text": [
            "[[1.3767508e-02 3.2444802e-04 5.4440502e-02 5.3926206e-01 4.5927995e-05\n",
            "  3.4033511e-02 1.7711696e-01 2.2255615e-03 1.2765190e-01 5.1131684e-02]]\n",
            "[[2.1842305e-04 7.7170036e-05 5.9948113e-02 5.8043170e-01 3.1264135e-05\n",
            "  9.8179979e-03 1.7551597e-03 3.4024139e-04 3.4228429e-01 5.0955843e-03]]\n",
            "3\n",
            "3\n"
          ]
        }
      ]
    },
    {
      "cell_type": "code",
      "source": [
        "number = number.reshape(1,28, 28)\n",
        "plt.imshow(Image.fromarray(number[0])) # Нарисуем картинку из тестового набора под номером n_rec\n",
        "plt.show()"
      ],
      "metadata": {
        "colab": {
          "base_uri": "https://localhost:8080/",
          "height": 265
        },
        "id": "9xM9OrjJv5Xr",
        "outputId": "8a5d2fa5-6377-4683-a329-8f1822a6639f"
      },
      "execution_count": 13,
      "outputs": [
        {
          "output_type": "display_data",
          "data": {
            "text/plain": [
              "<Figure size 432x288 with 1 Axes>"
            ],
            "image/png": "[encoded data removed]"
          },
          "metadata": {
            "needs_background": "light"
          }
        }
      ]
    },
    {
      "cell_type": "code",
      "source": [
        "number8 = number8.reshape(1,28, 28)\n",
        "plt.imshow(Image.fromarray(number8[0])) # Нарисуем картинку из тестового набора под номером n_rec\n",
        "plt.show()"
      ],
      "metadata": {
        "colab": {
          "base_uri": "https://localhost:8080/",
          "height": 265
        },
        "id": "Ko49J1O1v7A8",
        "outputId": "4cf2b321-13d2-45ac-818d-519bd2943988"
      },
      "execution_count": 14,
      "outputs": [
        {
          "output_type": "display_data",
          "data": {
            "text/plain": [
              "<Figure size 432x288 with 1 Axes>"
            ],
            "image/png": "[encoded data removed]"
          },
          "metadata": {
            "needs_background": "light"
          }
        }
      ]
    }
  ]
}