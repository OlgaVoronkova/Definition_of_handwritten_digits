{
  "nbformat": 4,
  "nbformat_minor": 0,
  "metadata": {
    "colab": {
      "provenance": [],
      "collapsed_sections": [],
      "authorship_tag": "ABX9TyNOY4BDW3TVe0Ux+LcsgA7o",
      "include_colab_link": true
    },
    "kernelspec": {
      "name": "python3",
      "display_name": "Python 3"
    },
    "language_info": {
      "name": "python"
    },
    "accelerator": "GPU",
    "gpuClass": "standard"
  },
  "cells": [
    {
      "cell_type": "markdown",
      "metadata": {
        "id": "view-in-github",
        "colab_type": "text"
      },
      "source": [
        "<a href=\"https://colab.research.google.com/github/OlgaVoronkova/Definition_of_handwritten_digits/blob/main/Definition_of_handwritten_digits_(old).ipynb\" target=\"_parent\"><img src=\"https://colab.research.google.com/assets/colab-badge.svg\" alt=\"Open In Colab\"/></a>"
      ]
    },
    {
      "cell_type": "code",
      "execution_count": 19,
      "metadata": {
        "id": "E1f9QO7K782C"
      },
      "outputs": [],
      "source": [
        "from tensorflow.keras.datasets import mnist #Библиотека с базой Mnist\n",
        "from tensorflow.keras.models import Sequential # Подлючаем класс создания модели Sequential\n",
        "from tensorflow.keras.layers import Dense, Conv2D, MaxPooling2D, Flatten, Dropout, BatchNormalization # Подключаем класс Dense - полносвязный слой\n",
        "from tensorflow.keras.optimizers import Adam, Adadelta # Подключаем оптимизатор Adam\n",
        "from tensorflow.keras import utils #Утилиты для to_categorical\n",
        "from tensorflow.keras.preprocessing import image #Для отрисовки изображения\n",
        "import numpy as np # Подключаем библиотеку numpy\n",
        "import pylab # Модуль для построения графиков\n",
        "from mpl_toolkits.mplot3d import Axes3D # Модуль для трехмерной графики\n",
        "from google.colab import files #Для загрузки своей картинки\n",
        "import matplotlib.pyplot as plt #Отрисовка изображений\n",
        "from PIL import Image #Отрисовка изображений\n",
        "from sklearn.model_selection import train_test_split\n",
        "#Отрисовывать изображения в ноутбуке, а не в консоль или файл\n",
        "import random #Для генерации случайных чисел \n",
        "import math # Для округления\n",
        "import os #Для работы с файлами \n",
        "# подключем диск\n",
        "from google.colab import drive\n",
        "%matplotlib inline "
      ]
    },
    {
      "cell_type": "code",
      "source": [
        "(x_train, y_train), (x_test, y_test) = mnist.load_data()"
      ],
      "metadata": {
        "id": "N6gmyPJx89K_"
      },
      "execution_count": 20,
      "outputs": []
    },
    {
      "cell_type": "code",
      "source": [
        "print(x_train.shape)\n",
        "print(x_test.shape)"
      ],
      "metadata": {
        "colab": {
          "base_uri": "https://localhost:8080/"
        },
        "id": "4iydfplh-IUJ",
        "outputId": "2dca355a-6171-4864-fe0e-fe50e39bf688"
      },
      "execution_count": 21,
      "outputs": [
        {
          "output_type": "stream",
          "name": "stdout",
          "text": [
            "(60000, 28, 28)\n",
            "(10000, 28, 28)\n"
          ]
        }
      ]
    },
    {
      "cell_type": "code",
      "source": [
        "print(y_train.shape)\n",
        "print(y_test.shape)"
      ],
      "metadata": {
        "colab": {
          "base_uri": "https://localhost:8080/"
        },
        "id": "YbjtVQmm-_sj",
        "outputId": "4d9422a2-f3a4-4d88-acd0-6f8eb31e5ff8"
      },
      "execution_count": 22,
      "outputs": [
        {
          "output_type": "stream",
          "name": "stdout",
          "text": [
            "(60000,)\n",
            "(10000,)\n"
          ]
        }
      ]
    },
    {
      "cell_type": "code",
      "source": [
        "# Преобразуем ответы в формат one_hot_encoding\n",
        "y_train = utils.to_categorical(y_train, 10)\n",
        "y_test = utils.to_categorical(y_test, 10)\n",
        "\n"
      ],
      "metadata": {
        "id": "QwAmq5Lt_PCY"
      },
      "execution_count": 23,
      "outputs": []
    },
    {
      "cell_type": "code",
      "source": [
        "print(y_train.shape)\n",
        "print(y_test.shape)"
      ],
      "metadata": {
        "colab": {
          "base_uri": "https://localhost:8080/"
        },
        "id": "IGTSFmAR_lt-",
        "outputId": "38a8be6c-49ca-4efa-8311-ddeb7a5771eb"
      },
      "execution_count": 24,
      "outputs": [
        {
          "output_type": "stream",
          "name": "stdout",
          "text": [
            "(60000, 10)\n",
            "(10000, 10)\n"
          ]
        }
      ]
    },
    {
      "cell_type": "code",
      "source": [
        "#Меняем формат входных картинок с 28х28 на 784х1\n",
        "x_train = x_train.reshape(60000, 784)\n",
        "x_test = x_test.reshape(10000, 784)\n",
        "print(x_train.shape)\n",
        "print(x_test.shape)\n"
      ],
      "metadata": {
        "colab": {
          "base_uri": "https://localhost:8080/"
        },
        "id": "StJ0pcLu_oFW",
        "outputId": "a2862fdc-de95-4b20-dc36-f61e6636b813"
      },
      "execution_count": 25,
      "outputs": [
        {
          "output_type": "stream",
          "name": "stdout",
          "text": [
            "(60000, 784)\n",
            "(10000, 784)\n"
          ]
        }
      ]
    },
    {
      "cell_type": "code",
      "source": [
        "#Нормализуем входные картинки\n",
        "x_train = x_train.astype('float32') # преобразовываем x_train в тип float (цифры с плавающей точкой)\n",
        "x_train = x_train / 255 # делим на 255, чтобы диапазон был от 0 до 1\n",
        "x_test = x_test.astype('float32') # преобразовываем x_test в тип float (цифры с плавающей точкой)\n",
        "x_test = x_test / 255 # делим на 255, чтобы диапазон был от 0 до 1"
      ],
      "metadata": {
        "id": "w329FxzoBxQN"
      },
      "execution_count": 26,
      "outputs": []
    },
    {
      "cell_type": "code",
      "source": [
        "x_train_n, x_val, y_train_n, y_val = train_test_split(x_train, y_train, test_size = 0.2, shuffle=True)\n",
        "numb_model = Sequential()\n",
        "numb_model.add(Dense(1000, input_dim = 784, activation='relu'))\n",
        "numb_model.add(Dropout(0.2))\n",
        "numb_model.add(BatchNormalization())\n",
        "numb_model.add(Dense(500, activation=\"relu\"))\n",
        "numb_model.add(Dropout(0.4))\n",
        "numb_model.add(BatchNormalization())\n",
        "numb_model.add(Dense(100, activation=\"relu\"))\n",
        "numb_model.add(Dropout(0.4))\n",
        "numb_model.add(BatchNormalization())\n",
        "numb_model.add(Dense(10, activation=\"softmax\"))\n",
        "numb_model.compile(loss=\"categorical_crossentropy\", optimizer=Adam(learning_rate=0.0001), metrics=['accuracy'])\n",
        "numb_model.summary()\n",
        "numb_model.train_on_batch(x_train, y_train)\n",
        "#fit - функция обучения нейронки\n",
        "#x_train, y_train - обучающая выборка, входные и выходные данные\n",
        "#batch_size - размер батча, количество примеров, которое обрабатывает нейронка перед одним изменением весов\n",
        "#epochs - количество эпох, когда нейронка обучается на всех примерах выборки\n",
        "#verbose - 0 - не визуализировать ход обучения, 1 - визуализировать\n",
        "numb_model.fit(x_train_n, y_train_n, batch_size=128, epochs=20, validation_data=(x_val, y_val))"
      ],
      "metadata": {
        "colab": {
          "base_uri": "https://localhost:8080/"
        },
        "outputId": "1fd04a43-04e6-4558-d4ab-f533682b2088",
        "id": "8SEusAENeyg-"
      },
      "execution_count": 27,
      "outputs": [
        {
          "output_type": "stream",
          "name": "stdout",
          "text": [
            "Model: \"sequential_1\"\n",
            "_________________________________________________________________\n",
            " Layer (type)                Output Shape              Param #   \n",
            "=================================================================\n",
            " dense_4 (Dense)             (None, 1000)              785000    \n",
            "                                                                 \n",
            " dropout_3 (Dropout)         (None, 1000)              0         \n",
            "                                                                 \n",
            " batch_normalization_3 (Batc  (None, 1000)             4000      \n",
            " hNormalization)                                                 \n",
            "                                                                 \n",
            " dense_5 (Dense)             (None, 500)               500500    \n",
            "                                                                 \n",
            " dropout_4 (Dropout)         (None, 500)               0         \n",
            "                                                                 \n",
            " batch_normalization_4 (Batc  (None, 500)              2000      \n",
            " hNormalization)                                                 \n",
            "                                                                 \n",
            " dense_6 (Dense)             (None, 100)               50100     \n",
            "                                                                 \n",
            " dropout_5 (Dropout)         (None, 100)               0         \n",
            "                                                                 \n",
            " batch_normalization_5 (Batc  (None, 100)              400       \n",
            " hNormalization)                                                 \n",
            "                                                                 \n",
            " dense_7 (Dense)             (None, 10)                1010      \n",
            "                                                                 \n",
            "=================================================================\n",
            "Total params: 1,343,010\n",
            "Trainable params: 1,339,810\n",
            "Non-trainable params: 3,200\n",
            "_________________________________________________________________\n",
            "Epoch 1/20\n",
            "375/375 [==============================] - 2s 5ms/step - loss: 0.8614 - accuracy: 0.7335 - val_loss: 0.3714 - val_accuracy: 0.9182\n",
            "Epoch 2/20\n",
            "375/375 [==============================] - 2s 5ms/step - loss: 0.3875 - accuracy: 0.8917 - val_loss: 0.1971 - val_accuracy: 0.9443\n",
            "Epoch 3/20\n",
            "375/375 [==============================] - 2s 5ms/step - loss: 0.2781 - accuracy: 0.9237 - val_loss: 0.1539 - val_accuracy: 0.9552\n",
            "Epoch 4/20\n",
            "375/375 [==============================] - 2s 5ms/step - loss: 0.2163 - accuracy: 0.9413 - val_loss: 0.1279 - val_accuracy: 0.9626\n",
            "Epoch 5/20\n",
            "375/375 [==============================] - 2s 5ms/step - loss: 0.1780 - accuracy: 0.9500 - val_loss: 0.1124 - val_accuracy: 0.9662\n",
            "Epoch 6/20\n",
            "375/375 [==============================] - 2s 5ms/step - loss: 0.1470 - accuracy: 0.9606 - val_loss: 0.0983 - val_accuracy: 0.9703\n",
            "Epoch 7/20\n",
            "375/375 [==============================] - 2s 5ms/step - loss: 0.1232 - accuracy: 0.9673 - val_loss: 0.0898 - val_accuracy: 0.9725\n",
            "Epoch 8/20\n",
            "375/375 [==============================] - 2s 5ms/step - loss: 0.1060 - accuracy: 0.9705 - val_loss: 0.0835 - val_accuracy: 0.9752\n",
            "Epoch 9/20\n",
            "375/375 [==============================] - 2s 5ms/step - loss: 0.0888 - accuracy: 0.9754 - val_loss: 0.0790 - val_accuracy: 0.9768\n",
            "Epoch 10/20\n",
            "375/375 [==============================] - 2s 5ms/step - loss: 0.0784 - accuracy: 0.9786 - val_loss: 0.0756 - val_accuracy: 0.9762\n",
            "Epoch 11/20\n",
            "375/375 [==============================] - 2s 5ms/step - loss: 0.0685 - accuracy: 0.9809 - val_loss: 0.0740 - val_accuracy: 0.9778\n",
            "Epoch 12/20\n",
            "375/375 [==============================] - 2s 5ms/step - loss: 0.0591 - accuracy: 0.9838 - val_loss: 0.0714 - val_accuracy: 0.9788\n",
            "Epoch 13/20\n",
            "375/375 [==============================] - 2s 6ms/step - loss: 0.0524 - accuracy: 0.9856 - val_loss: 0.0687 - val_accuracy: 0.9803\n",
            "Epoch 14/20\n",
            "375/375 [==============================] - 2s 5ms/step - loss: 0.0449 - accuracy: 0.9878 - val_loss: 0.0665 - val_accuracy: 0.9807\n",
            "Epoch 15/20\n",
            "375/375 [==============================] - 2s 5ms/step - loss: 0.0392 - accuracy: 0.9892 - val_loss: 0.0691 - val_accuracy: 0.9799\n",
            "Epoch 16/20\n",
            "375/375 [==============================] - 2s 5ms/step - loss: 0.0360 - accuracy: 0.9901 - val_loss: 0.0724 - val_accuracy: 0.9799\n",
            "Epoch 17/20\n",
            "375/375 [==============================] - 2s 5ms/step - loss: 0.0322 - accuracy: 0.9909 - val_loss: 0.0707 - val_accuracy: 0.9801\n",
            "Epoch 18/20\n",
            "375/375 [==============================] - 2s 5ms/step - loss: 0.0285 - accuracy: 0.9922 - val_loss: 0.0689 - val_accuracy: 0.9817\n",
            "Epoch 19/20\n",
            "375/375 [==============================] - 2s 5ms/step - loss: 0.0258 - accuracy: 0.9927 - val_loss: 0.0675 - val_accuracy: 0.9814\n",
            "Epoch 20/20\n",
            "375/375 [==============================] - 2s 5ms/step - loss: 0.0225 - accuracy: 0.9941 - val_loss: 0.0693 - val_accuracy: 0.9804\n"
          ]
        },
        {
          "output_type": "execute_result",
          "data": {
            "text/plain": [
              "<keras.callbacks.History at 0x7faf5a1f0a90>"
            ]
          },
          "metadata": {},
          "execution_count": 27
        }
      ]
    },
    {
      "cell_type": "code",
      "source": [
        "scores = numb_model.evaluate(x_test, y_test, verbose=1)\n",
        "print(scores)"
      ],
      "metadata": {
        "colab": {
          "base_uri": "https://localhost:8080/"
        },
        "id": "4VUh9TVZE03M",
        "outputId": "88dc835a-1e2f-4c7a-ede2-1b20bb6ad5d9"
      },
      "execution_count": 28,
      "outputs": [
        {
          "output_type": "stream",
          "name": "stdout",
          "text": [
            "313/313 [==============================] - 1s 3ms/step - loss: 0.0616 - accuracy: 0.9825\n",
            "[0.06160221993923187, 0.9825000166893005]\n"
          ]
        }
      ]
    },
    {
      "cell_type": "code",
      "source": [
        "numb_model.save_weights('numb_model.1')\n",
        "numb_model.load_weights('numb_model.1')\n",
        "number_7 = image.load_img(\"/content/number_7.jpg\", target_size=(28, 28), color_mode = 'grayscale')\n",
        "number_8 = image.load_img(\"/content/number_8.jpg\", target_size=(28, 28), color_mode = 'grayscale')"
      ],
      "metadata": {
        "id": "cgQooDRCVb5Z"
      },
      "execution_count": 29,
      "outputs": []
    },
    {
      "cell_type": "code",
      "source": [
        "number = 255 -  image.img_to_array(number_7)\n",
        "number8 = 255 -  image.img_to_array(number_8)\n",
        "number_r =number.reshape(1, 784)\n",
        "number8_r =number8.reshape(1, 784)\n",
        "number_r = number_r.astype('float32')\n",
        "number_r = number_r / 255 \n",
        "number8_r = number8_r.astype('float32')\n",
        "number8_r = number8_r / 255 \n",
        "prediction = numb_model.predict(number_r) \n",
        "prediction8 = numb_model.predict(number8_r) \n",
        "print(prediction)\n",
        "print(prediction8)\n",
        "prediction = np.argmax(prediction) # Получаем индекс самого большого элемента (это итоговая цифра, которую распознала сеть)\n",
        "print(prediction)\n",
        "prediction8 = np.argmax(prediction8) # Получаем индекс самого большого элемента (это итоговая цифра, которую распознала сеть)\n",
        "print(prediction8)"
      ],
      "metadata": {
        "id": "-xrmGyYXcRzE",
        "colab": {
          "base_uri": "https://localhost:8080/"
        },
        "outputId": "2c7d989e-3bf2-4b4b-ee63-700d0fafe0a5"
      },
      "execution_count": 30,
      "outputs": [
        {
          "output_type": "stream",
          "name": "stdout",
          "text": [
            "[[3.1980591e-05 4.8043545e-05 1.9594735e-02 9.5545650e-01 2.1154043e-04\n",
            "  1.6911395e-02 5.2585249e-04 2.2386145e-03 4.3482180e-03 6.3306448e-04]]\n",
            "[[3.66690685e-03 1.28118023e-01 2.50935438e-03 2.94015974e-01\n",
            "  1.04378695e-02 8.01945776e-02 1.60961971e-01 1.49714702e-03\n",
            "  3.18523526e-01 7.46619917e-05]]\n",
            "3\n",
            "8\n"
          ]
        }
      ]
    },
    {
      "cell_type": "code",
      "source": [
        "number = number.reshape(1,28, 28)\n",
        "plt.imshow(Image.fromarray(number[0])) # Нарисуем картинку из тестового набора под номером n_rec\n",
        "plt.show()"
      ],
      "metadata": {
        "colab": {
          "base_uri": "https://localhost:8080/",
          "height": 265
        },
        "id": "9xM9OrjJv5Xr",
        "outputId": "f7d702d6-571d-4556-f670-3109c47f1be1"
      },
      "execution_count": 31,
      "outputs": [
        {
          "output_type": "display_data",
          "data": {
            "text/plain": [
              "<Figure size 432x288 with 1 Axes>"
            ],
            "image/png": "[encoded data removed]"
          },
          "metadata": {
            "needs_background": "light"
          }
        }
      ]
    },
    {
      "cell_type": "code",
      "source": [
        "number8 = number8.reshape(1,28, 28)\n",
        "plt.imshow(Image.fromarray(number8[0])) # Нарисуем картинку из тестового набора под номером n_rec\n",
        "plt.show()"
      ],
      "metadata": {
        "colab": {
          "base_uri": "https://localhost:8080/",
          "height": 265
        },
        "id": "Ko49J1O1v7A8",
        "outputId": "42ef286c-8375-4033-9a5c-55044b53181d"
      },
      "execution_count": 32,
      "outputs": [
        {
          "output_type": "display_data",
          "data": {
            "text/plain": [
              "<Figure size 432x288 with 1 Axes>"
            ],
            "image/png": "[encoded data removed]"
          },
          "metadata": {
            "needs_background": "light"
          }
        }
      ]
    }
  ]
}