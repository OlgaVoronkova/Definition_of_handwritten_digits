{
  "nbformat": 4,
  "nbformat_minor": 0,
  "metadata": {
    "colab": {
      "provenance": [],
      "collapsed_sections": [],
      "authorship_tag": "ABX9TyNUi7wGGu1bfhFwhPFn2yjy",
      "include_colab_link": true
    },
    "kernelspec": {
      "name": "python3",
      "display_name": "Python 3"
    },
    "language_info": {
      "name": "python"
    },
    "accelerator": "GPU",
    "gpuClass": "standard"
  },
  "cells": [
    {
      "cell_type": "markdown",
      "metadata": {
        "id": "view-in-github",
        "colab_type": "text"
      },
      "source": [
        "<a href=\"https://colab.research.google.com/github/OlgaVoronkova/Definition_of_handwritten_digits/blob/main/Definition_of_handwritten_digits.ipynb\" target=\"_parent\"><img src=\"https://colab.research.google.com/assets/colab-badge.svg\" alt=\"Open In Colab\"/></a>"
      ]
    },
    {
      "cell_type": "code",
      "execution_count": 38,
      "metadata": {
        "id": "E1f9QO7K782C"
      },
      "outputs": [],
      "source": [
        "from tensorflow.keras.datasets import mnist #Библиотека с базой Mnist\n",
        "from tensorflow.keras.models import Sequential # Подлючаем класс создания модели Sequential\n",
        "from tensorflow.keras.layers import Dense, Conv2D, MaxPooling2D, Flatten, Dropout, BatchNormalization # Подключаем класс Dense - полносвязный слой\n",
        "from tensorflow.keras.optimizers import Adam, Adadelta # Подключаем оптимизатор Adam\n",
        "from tensorflow.keras import utils #Утилиты для to_categorical\n",
        "from tensorflow.keras.preprocessing import image #Для отрисовки изображения\n",
        "import numpy as np # Подключаем библиотеку numpy\n",
        "import pylab # Модуль для построения графиков\n",
        "from mpl_toolkits.mplot3d import Axes3D # Модуль для трехмерной графики\n",
        "from google.colab import files #Для загрузки своей картинки\n",
        "import matplotlib.pyplot as plt #Отрисовка изображений\n",
        "from PIL import Image #Отрисовка изображений\n",
        "from sklearn.model_selection import train_test_split\n",
        "#Отрисовывать изображения в ноутбуке, а не в консоль или файл\n",
        "import random #Для генерации случайных чисел \n",
        "import math # Для округления\n",
        "import os #Для работы с файлами \n",
        "# подключем диск\n",
        "from google.colab import drive\n",
        "%matplotlib inline "
      ]
    },
    {
      "cell_type": "code",
      "source": [
        "(x_train, y_train), (x_test, y_test) = mnist.load_data()"
      ],
      "metadata": {
        "id": "N6gmyPJx89K_"
      },
      "execution_count": 39,
      "outputs": []
    },
    {
      "cell_type": "code",
      "source": [
        "print(x_train.shape)\n",
        "print(x_test.shape)"
      ],
      "metadata": {
        "colab": {
          "base_uri": "https://localhost:8080/"
        },
        "id": "4iydfplh-IUJ",
        "outputId": "61cbd9c9-0097-45fa-de77-e2fb62c9ee8a"
      },
      "execution_count": 40,
      "outputs": [
        {
          "output_type": "stream",
          "name": "stdout",
          "text": [
            "(60000, 28, 28)\n",
            "(10000, 28, 28)\n"
          ]
        }
      ]
    },
    {
      "cell_type": "code",
      "source": [
        "print(y_train.shape)\n",
        "print(y_test.shape)"
      ],
      "metadata": {
        "colab": {
          "base_uri": "https://localhost:8080/"
        },
        "id": "YbjtVQmm-_sj",
        "outputId": "7d16f300-bfc5-475b-add6-ec39aa725bdc"
      },
      "execution_count": 41,
      "outputs": [
        {
          "output_type": "stream",
          "name": "stdout",
          "text": [
            "(60000,)\n",
            "(10000,)\n"
          ]
        }
      ]
    },
    {
      "cell_type": "code",
      "source": [
        "# Преобразуем ответы в формат one_hot_encoding\n",
        "y_train = utils.to_categorical(y_train, 10)\n",
        "y_test = utils.to_categorical(y_test, 10)\n",
        "\n",
        "#Меняем формат данных MNIST\n",
        "#Надо добавить в конце размерность 1\n",
        "#Чтобы свёрточная сеть понимала, что это чёрно-белые данные\n",
        "x_train = x_train.reshape(x_train.shape[0], 28, 28, 1)\n",
        "x_test = x_test.reshape(x_test.shape[0], 28, 28, 1)"
      ],
      "metadata": {
        "id": "QwAmq5Lt_PCY"
      },
      "execution_count": 42,
      "outputs": []
    },
    {
      "cell_type": "code",
      "source": [
        "print(y_train.shape)\n",
        "print(y_test.shape)"
      ],
      "metadata": {
        "colab": {
          "base_uri": "https://localhost:8080/"
        },
        "id": "IGTSFmAR_lt-",
        "outputId": "08991d35-21f6-42a3-9612-f4c87aaf03d8"
      },
      "execution_count": 43,
      "outputs": [
        {
          "output_type": "stream",
          "name": "stdout",
          "text": [
            "(60000, 10)\n",
            "(10000, 10)\n"
          ]
        }
      ]
    },
    {
      "cell_type": "code",
      "source": [
        "numb_model = Sequential()\n",
        "#Слой пакетной нормализации\n",
        "numb_model.add(BatchNormalization(input_shape=(28, 28, 1)))\n",
        "#Первый сверточный слой\n",
        "numb_model.add(Conv2D(32, 3, padding='same', activation='relu'))\n",
        "#Первый слой подвыборки\n",
        "numb_model.add(MaxPooling2D(pool_size=(2, 2)))\n",
        "#Второй сверточный слой\n",
        "numb_model.add(Conv2D(32, (3, 3), padding='same', activation='relu'))\n",
        "#Первый слой подвыборки\n",
        "numb_model.add(MaxPooling2D(pool_size=(2, 2)))\n",
        "#Слой регуляризации Dropout\n",
        "numb_model.add(Dropout(0.4))\n",
        "\n",
        "numb_model.add(Flatten())\n",
        "#Полносвязный слой для классификации\n",
        "numb_model.add(Dense(512, activation='relu'))\n",
        "numb_model.add(Dropout(0.4))\n",
        "numb_model.add(Dense(10, activation=\"softmax\"))\n",
        "\n",
        "numb_model.compile(loss=\"categorical_crossentropy\", optimizer=Adam(learning_rate=0.0001), metrics=['accuracy'])\n",
        "numb_model.summary()\n",
        "\n",
        "#fit - функция обучения нейронки\n",
        "#x_train, y_train - обучающая выборка, входные и выходные данные\n",
        "#batch_size - размер батча, количество примеров, которое обрабатывает нейронка перед одним изменением весов\n",
        "#epochs - количество эпох, когда нейронка обучается на всех примерах выборки\n",
        "#verbose - 0 - не визуализировать ход обучения, 1 - визуализировать\n",
        "numb_model.fit(x_train, y_train, batch_size=32, epochs=20, validation_data=(x_test, y_test))"
      ],
      "metadata": {
        "colab": {
          "base_uri": "https://localhost:8080/"
        },
        "outputId": "a05e6872-1e56-48f4-ef66-290c1a0d21de",
        "id": "8SEusAENeyg-"
      },
      "execution_count": 44,
      "outputs": [
        {
          "output_type": "stream",
          "name": "stdout",
          "text": [
            "Model: \"sequential_3\"\n",
            "_________________________________________________________________\n",
            " Layer (type)                Output Shape              Param #   \n",
            "=================================================================\n",
            " batch_normalization_3 (Batc  (None, 28, 28, 1)        4         \n",
            " hNormalization)                                                 \n",
            "                                                                 \n",
            " conv2d_8 (Conv2D)           (None, 28, 28, 32)        320       \n",
            "                                                                 \n",
            " max_pooling2d_6 (MaxPooling  (None, 14, 14, 32)       0         \n",
            " 2D)                                                             \n",
            "                                                                 \n",
            " conv2d_9 (Conv2D)           (None, 14, 14, 32)        9248      \n",
            "                                                                 \n",
            " max_pooling2d_7 (MaxPooling  (None, 7, 7, 32)         0         \n",
            " 2D)                                                             \n",
            "                                                                 \n",
            " dropout_6 (Dropout)         (None, 7, 7, 32)          0         \n",
            "                                                                 \n",
            " flatten_3 (Flatten)         (None, 1568)              0         \n",
            "                                                                 \n",
            " dense_6 (Dense)             (None, 512)               803328    \n",
            "                                                                 \n",
            " dropout_7 (Dropout)         (None, 512)               0         \n",
            "                                                                 \n",
            " dense_7 (Dense)             (None, 10)                5130      \n",
            "                                                                 \n",
            "=================================================================\n",
            "Total params: 818,030\n",
            "Trainable params: 818,028\n",
            "Non-trainable params: 2\n",
            "_________________________________________________________________\n",
            "Epoch 1/20\n",
            "1875/1875 [==============================] - 9s 5ms/step - loss: 0.3955 - accuracy: 0.8770 - val_loss: 0.0887 - val_accuracy: 0.9705\n",
            "Epoch 2/20\n",
            "1875/1875 [==============================] - 9s 5ms/step - loss: 0.1241 - accuracy: 0.9613 - val_loss: 0.0543 - val_accuracy: 0.9827\n",
            "Epoch 3/20\n",
            "1875/1875 [==============================] - 9s 5ms/step - loss: 0.0931 - accuracy: 0.9712 - val_loss: 0.0433 - val_accuracy: 0.9863\n",
            "Epoch 4/20\n",
            "1875/1875 [==============================] - 8s 4ms/step - loss: 0.0736 - accuracy: 0.9772 - val_loss: 0.0353 - val_accuracy: 0.9878\n",
            "Epoch 5/20\n",
            "1875/1875 [==============================] - 8s 5ms/step - loss: 0.0637 - accuracy: 0.9795 - val_loss: 0.0311 - val_accuracy: 0.9893\n",
            "Epoch 6/20\n",
            "1875/1875 [==============================] - 8s 4ms/step - loss: 0.0552 - accuracy: 0.9828 - val_loss: 0.0279 - val_accuracy: 0.9904\n",
            "Epoch 7/20\n",
            "1875/1875 [==============================] - 8s 4ms/step - loss: 0.0499 - accuracy: 0.9838 - val_loss: 0.0270 - val_accuracy: 0.9899\n",
            "Epoch 8/20\n",
            "1875/1875 [==============================] - 9s 5ms/step - loss: 0.0434 - accuracy: 0.9863 - val_loss: 0.0249 - val_accuracy: 0.9905\n",
            "Epoch 9/20\n",
            "1875/1875 [==============================] - 8s 4ms/step - loss: 0.0416 - accuracy: 0.9870 - val_loss: 0.0231 - val_accuracy: 0.9920\n",
            "Epoch 10/20\n",
            "1875/1875 [==============================] - 8s 4ms/step - loss: 0.0392 - accuracy: 0.9876 - val_loss: 0.0241 - val_accuracy: 0.9907\n",
            "Epoch 11/20\n",
            "1875/1875 [==============================] - 8s 4ms/step - loss: 0.0341 - accuracy: 0.9890 - val_loss: 0.0222 - val_accuracy: 0.9929\n",
            "Epoch 12/20\n",
            "1875/1875 [==============================] - 8s 4ms/step - loss: 0.0312 - accuracy: 0.9901 - val_loss: 0.0224 - val_accuracy: 0.9924\n",
            "Epoch 13/20\n",
            "1875/1875 [==============================] - 8s 4ms/step - loss: 0.0295 - accuracy: 0.9898 - val_loss: 0.0238 - val_accuracy: 0.9927\n",
            "Epoch 14/20\n",
            "1875/1875 [==============================] - 8s 5ms/step - loss: 0.0280 - accuracy: 0.9907 - val_loss: 0.0217 - val_accuracy: 0.9924\n",
            "Epoch 15/20\n",
            "1875/1875 [==============================] - 8s 4ms/step - loss: 0.0268 - accuracy: 0.9916 - val_loss: 0.0213 - val_accuracy: 0.9925\n",
            "Epoch 16/20\n",
            "1875/1875 [==============================] - 8s 4ms/step - loss: 0.0274 - accuracy: 0.9908 - val_loss: 0.0204 - val_accuracy: 0.9933\n",
            "Epoch 17/20\n",
            "1875/1875 [==============================] - 8s 4ms/step - loss: 0.0233 - accuracy: 0.9921 - val_loss: 0.0215 - val_accuracy: 0.9924\n",
            "Epoch 18/20\n",
            "1875/1875 [==============================] - 9s 5ms/step - loss: 0.0236 - accuracy: 0.9920 - val_loss: 0.0215 - val_accuracy: 0.9922\n",
            "Epoch 19/20\n",
            "1875/1875 [==============================] - 8s 4ms/step - loss: 0.0217 - accuracy: 0.9924 - val_loss: 0.0230 - val_accuracy: 0.9926\n",
            "Epoch 20/20\n",
            "1875/1875 [==============================] - 8s 4ms/step - loss: 0.0205 - accuracy: 0.9936 - val_loss: 0.0198 - val_accuracy: 0.9933\n"
          ]
        },
        {
          "output_type": "execute_result",
          "data": {
            "text/plain": [
              "<keras.callbacks.History at 0x7fc97d962a10>"
            ]
          },
          "metadata": {},
          "execution_count": 44
        }
      ]
    },
    {
      "cell_type": "code",
      "source": [
        "scores = numb_model.evaluate(x_test, y_test, verbose=1)\n",
        "print(scores)"
      ],
      "metadata": {
        "colab": {
          "base_uri": "https://localhost:8080/"
        },
        "id": "4VUh9TVZE03M",
        "outputId": "3093ed00-ce1b-48fd-ab85-8ad9e2de966b"
      },
      "execution_count": 45,
      "outputs": [
        {
          "output_type": "stream",
          "name": "stdout",
          "text": [
            "313/313 [==============================] - 1s 3ms/step - loss: 0.0198 - accuracy: 0.9933\n",
            "[0.019758975133299828, 0.9933000206947327]\n"
          ]
        }
      ]
    },
    {
      "cell_type": "code",
      "source": [
        "numb_model.save_weights('numb_model.1')\n",
        "numb_model.load_weights('numb_model.1')\n",
        "number_7 = image.load_img(\"/content/number_7.jpg\", target_size=(28, 28), color_mode = 'grayscale')\n",
        "number_8 = image.load_img(\"/content/number_8.jpg\", target_size=(28, 28), color_mode = 'grayscale')"
      ],
      "metadata": {
        "id": "cgQooDRCVb5Z"
      },
      "execution_count": 47,
      "outputs": []
    },
    {
      "cell_type": "code",
      "source": [
        "number7 = 225 - image.img_to_array(number_7)\n",
        "number8 = 225 - image.img_to_array(number_8)\n",
        "number7_r = number7.reshape(1, 28, 28, 1)\n",
        "number8_r = number8.reshape(1, 28, 28, 1)\n",
        "\n",
        "prediction7 = numb_model.predict(number7_r) \n",
        "prediction8 = numb_model.predict(number8_r) \n",
        "print(prediction7)\n",
        "print(prediction8)\n",
        "prediction7 = np.argmax(prediction7) # Получаем индекс самого большого элемента (это итоговая цифра, которую распознала сеть)\n",
        "print(prediction7)\n",
        "prediction8 = np.argmax(prediction8) # Получаем индекс самого большого элемента (это итоговая цифра, которую распознала сеть)\n",
        "print(prediction8)"
      ],
      "metadata": {
        "id": "-xrmGyYXcRzE",
        "colab": {
          "base_uri": "https://localhost:8080/"
        },
        "outputId": "e24c85f3-a35b-465b-f3fe-77582cac4dc6"
      },
      "execution_count": 48,
      "outputs": [
        {
          "output_type": "stream",
          "name": "stdout",
          "text": [
            "[[1.6633356e-10 2.1295449e-05 6.5562487e-02 2.3749109e-05 9.8504080e-11\n",
            "  1.8046408e-11 2.0767470e-09 9.3439245e-01 3.2400330e-08 1.5396226e-10]]\n",
            "[[2.80478041e-09 1.83567120e-11 7.81895233e-06 3.19946818e-02\n",
            "  1.26964697e-11 1.10499175e-04 8.02754016e-07 3.73101688e-11\n",
            "  9.67886209e-01 7.62924500e-13]]\n",
            "7\n",
            "8\n"
          ]
        }
      ]
    },
    {
      "cell_type": "code",
      "source": [
        "number7 = number7.reshape(1,28, 28)\n",
        "plt.imshow(Image.fromarray(number7[0])) # Нарисуем картинку из тестового набора под номером n_rec\n",
        "plt.show()"
      ],
      "metadata": {
        "colab": {
          "base_uri": "https://localhost:8080/",
          "height": 265
        },
        "id": "9xM9OrjJv5Xr",
        "outputId": "42e5cc0b-5a2d-4569-dc6f-89b9aaca7a66"
      },
      "execution_count": 49,
      "outputs": [
        {
          "output_type": "display_data",
          "data": {
            "text/plain": [
              "<Figure size 432x288 with 1 Axes>"
            ],
            "image/png": "[encoded data removed]"
          },
          "metadata": {
            "needs_background": "light"
          }
        }
      ]
    },
    {
      "cell_type": "code",
      "source": [
        "number8 = number8.reshape(1,28, 28)\n",
        "plt.imshow(Image.fromarray(number8[0])) # Нарисуем картинку из тестового набора под номером n_rec\n",
        "plt.show()"
      ],
      "metadata": {
        "colab": {
          "base_uri": "https://localhost:8080/",
          "height": 265
        },
        "id": "Ko49J1O1v7A8",
        "outputId": "59975bb5-2004-4caf-caae-a400dafa3194"
      },
      "execution_count": 50,
      "outputs": [
        {
          "output_type": "display_data",
          "data": {
            "text/plain": [
              "<Figure size 432x288 with 1 Axes>"
            ],
            "image/png": "[encoded data removed]"
          },
          "metadata": {
            "needs_background": "light"
          }
        }
      ]
    }
  ]
}