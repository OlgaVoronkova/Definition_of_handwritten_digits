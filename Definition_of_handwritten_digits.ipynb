{
  "nbformat": 4,
  "nbformat_minor": 0,
  "metadata": {
    "colab": {
      "provenance": [],
      "collapsed_sections": [],
      "authorship_tag": "ABX9TyPCVPXZVguI7dkzEFcFJ3y/",
      "include_colab_link": true
    },
    "kernelspec": {
      "name": "python3",
      "display_name": "Python 3"
    },
    "language_info": {
      "name": "python"
    },
    "accelerator": "GPU",
    "gpuClass": "standard"
  },
  "cells": [
    {
      "cell_type": "markdown",
      "metadata": {
        "id": "view-in-github",
        "colab_type": "text"
      },
      "source": [
        "<a href=\"https://colab.research.google.com/github/OlgaVoronkova/Definition_of_handwritten_digits/blob/main/Definition_of_handwritten_digits.ipynb\" target=\"_parent\"><img src=\"https://colab.research.google.com/assets/colab-badge.svg\" alt=\"Open In Colab\"/></a>"
      ]
    },
    {
      "cell_type": "code",
      "execution_count": null,
      "metadata": {
        "id": "E1f9QO7K782C"
      },
      "outputs": [],
      "source": [
        "from tensorflow.keras.datasets import mnist #Библиотека с базой Mnist\n",
        "from tensorflow.keras.models import Sequential # Подлючаем класс создания модели Sequential\n",
        "from tensorflow.keras.layers import Dense, Conv2D, MaxPooling2D, Flatten, Dropout, BatchNormalization # Подключаем класс Dense - полносвязный слой\n",
        "from tensorflow.keras.optimizers import Adam, Adadelta # Подключаем оптимизатор Adam\n",
        "from tensorflow.keras import utils #Утилиты для to_categorical\n",
        "from tensorflow.keras.preprocessing import image #Для отрисовки изображения\n",
        "import numpy as np # Подключаем библиотеку numpy\n",
        "import pylab # Модуль для построения графиков\n",
        "from mpl_toolkits.mplot3d import Axes3D # Модуль для трехмерной графики\n",
        "from google.colab import files #Для загрузки своей картинки\n",
        "import matplotlib.pyplot as plt #Отрисовка изображений\n",
        "from PIL import Image #Отрисовка изображений\n",
        "from sklearn.model_selection import train_test_split\n",
        "#Отрисовывать изображения в ноутбуке, а не в консоль или файл\n",
        "import random #Для генерации случайных чисел \n",
        "import math # Для округления\n",
        "import os #Для работы с файлами \n",
        "# подключем диск\n",
        "from google.colab import drive\n",
        "%matplotlib inline "
      ]
    },
    {
      "cell_type": "code",
      "source": [
        "(x_train, y_train), (x_test, y_test) = mnist.load_data()"
      ],
      "metadata": {
        "id": "N6gmyPJx89K_",
        "colab": {
          "base_uri": "https://localhost:8080/"
        },
        "outputId": "55a5225b-2b4d-4cb5-fd23-38e5e91d3b10"
      },
      "execution_count": null,
      "outputs": [
        {
          "output_type": "stream",
          "name": "stdout",
          "text": [
            "Downloading data from https://storage.googleapis.com/tensorflow/tf-keras-datasets/mnist.npz\n",
            "11493376/11490434 [==============================] - 0s 0us/step\n",
            "11501568/11490434 [==============================] - 0s 0us/step\n"
          ]
        }
      ]
    },
    {
      "cell_type": "code",
      "source": [
        "print(x_train.shape)\n",
        "print(x_test.shape)"
      ],
      "metadata": {
        "colab": {
          "base_uri": "https://localhost:8080/"
        },
        "id": "4iydfplh-IUJ",
        "outputId": "4da8b008-4878-4163-fb38-d04eafdf0e8d"
      },
      "execution_count": null,
      "outputs": [
        {
          "output_type": "stream",
          "name": "stdout",
          "text": [
            "(60000, 28, 28)\n",
            "(10000, 28, 28)\n"
          ]
        }
      ]
    },
    {
      "cell_type": "code",
      "source": [
        "print(y_train.shape)\n",
        "print(y_test.shape)"
      ],
      "metadata": {
        "colab": {
          "base_uri": "https://localhost:8080/"
        },
        "id": "YbjtVQmm-_sj",
        "outputId": "51433ab2-293b-4f7b-f8ec-e1384be17f23"
      },
      "execution_count": null,
      "outputs": [
        {
          "output_type": "stream",
          "name": "stdout",
          "text": [
            "(60000,)\n",
            "(10000,)\n"
          ]
        }
      ]
    },
    {
      "cell_type": "code",
      "source": [
        "# Преобразуем ответы в формат one_hot_encoding\n",
        "y_train = utils.to_categorical(y_train, 10)\n",
        "y_test = utils.to_categorical(y_test, 10)\n",
        "\n"
      ],
      "metadata": {
        "id": "QwAmq5Lt_PCY"
      },
      "execution_count": null,
      "outputs": []
    },
    {
      "cell_type": "code",
      "source": [
        "print(y_train.shape)\n",
        "print(y_test.shape)"
      ],
      "metadata": {
        "colab": {
          "base_uri": "https://localhost:8080/"
        },
        "id": "IGTSFmAR_lt-",
        "outputId": "edfc77e0-3237-4a7b-c590-8291237a3dbd"
      },
      "execution_count": null,
      "outputs": [
        {
          "output_type": "stream",
          "name": "stdout",
          "text": [
            "(60000, 10)\n",
            "(10000, 10)\n"
          ]
        }
      ]
    },
    {
      "cell_type": "code",
      "source": [
        "#Меняем формат входных картинок с 28х28 на 784х1\n",
        "x_train = x_train.reshape(60000, 784)\n",
        "x_test = x_test.reshape(10000, 784)\n",
        "print(x_train.shape)\n",
        "print(x_test.shape)\n"
      ],
      "metadata": {
        "colab": {
          "base_uri": "https://localhost:8080/"
        },
        "id": "StJ0pcLu_oFW",
        "outputId": "8e82877d-cc1c-45d2-c84f-b7699919a7fa"
      },
      "execution_count": null,
      "outputs": [
        {
          "output_type": "stream",
          "name": "stdout",
          "text": [
            "(60000, 784)\n",
            "(10000, 784)\n"
          ]
        }
      ]
    },
    {
      "cell_type": "code",
      "source": [
        "#Нормализуем входные картинки\n",
        "x_train = x_train.astype('float32') # преобразовываем x_train в тип float (цифры с плавающей точкой)\n",
        "x_train = x_train / 255 # делим на 255, чтобы диапазон был от 0 до 1\n",
        "x_test = x_test.astype('float32') # преобразовываем x_test в тип float (цифры с плавающей точкой)\n",
        "x_test = x_test / 255 # делим на 255, чтобы диапазон был от 0 до 1"
      ],
      "metadata": {
        "id": "w329FxzoBxQN"
      },
      "execution_count": null,
      "outputs": []
    },
    {
      "cell_type": "code",
      "source": [
        "x_train_n, x_val, y_train_n, y_val = train_test_split(x_train, y_train, test_size = 0.2, shuffle=True)\n",
        "numb_model = Sequential()\n",
        "numb_model.add(Dense(1000, input_dim = 784, activation='relu'))\n",
        "numb_model.add(Dropout(0.2))\n",
        "numb_model.add(BatchNormalization())\n",
        "numb_model.add(Dense(500, activation=\"relu\"))\n",
        "numb_model.add(Dropout(0.4))\n",
        "numb_model.add(BatchNormalization())\n",
        "numb_model.add(Dense(100, activation=\"relu\"))\n",
        "numb_model.add(Dropout(0.4))\n",
        "numb_model.add(BatchNormalization())\n",
        "numb_model.add(Dense(10, activation=\"softmax\"))\n",
        "numb_model.compile(loss=\"categorical_crossentropy\", optimizer=Adam(lr=0.0001), metrics=['accuracy'])\n",
        "numb_model.summary()\n",
        "numb_model.train_on_batch(x_train, y_train)\n",
        "#fit - функция обучения нейронки\n",
        "#x_train, y_train - обучающая выборка, входные и выходные данные\n",
        "#batch_size - размер батча, количество примеров, которое обрабатывает нейронка перед одним изменением весов\n",
        "#epochs - количество эпох, когда нейронка обучается на всех примерах выборки\n",
        "#verbose - 0 - не визуализировать ход обучения, 1 - визуализировать\n",
        "numb_model.fit(x_train_n, y_train_n, batch_size=128, epochs=20, validation_data=(x_val, y_val))"
      ],
      "metadata": {
        "colab": {
          "base_uri": "https://localhost:8080/"
        },
        "outputId": "d3245eab-87c8-4fd9-9ab1-58d3523027ae",
        "id": "8SEusAENeyg-"
      },
      "execution_count": null,
      "outputs": [
        {
          "output_type": "stream",
          "name": "stdout",
          "text": [
            "Model: \"sequential\"\n",
            "_________________________________________________________________\n",
            " Layer (type)                Output Shape              Param #   \n",
            "=================================================================\n",
            " dense (Dense)               (None, 1000)              785000    \n",
            "                                                                 \n",
            " dropout (Dropout)           (None, 1000)              0         \n",
            "                                                                 \n",
            " batch_normalization (BatchN  (None, 1000)             4000      \n",
            " ormalization)                                                   \n",
            "                                                                 \n",
            " dense_1 (Dense)             (None, 500)               500500    \n",
            "                                                                 \n",
            " dropout_1 (Dropout)         (None, 500)               0         \n",
            "                                                                 \n",
            " batch_normalization_1 (Batc  (None, 500)              2000      \n",
            " hNormalization)                                                 \n",
            "                                                                 \n",
            " dense_2 (Dense)             (None, 100)               50100     \n",
            "                                                                 \n",
            " dropout_2 (Dropout)         (None, 100)               0         \n",
            "                                                                 \n",
            " batch_normalization_2 (Batc  (None, 100)              400       \n",
            " hNormalization)                                                 \n",
            "                                                                 \n",
            " dense_3 (Dense)             (None, 10)                1010      \n",
            "                                                                 \n",
            "=================================================================\n",
            "Total params: 1,343,010\n",
            "Trainable params: 1,339,810\n",
            "Non-trainable params: 3,200\n",
            "_________________________________________________________________\n"
          ]
        },
        {
          "output_type": "stream",
          "name": "stderr",
          "text": [
            "/usr/local/lib/python3.7/dist-packages/keras/optimizer_v2/adam.py:105: UserWarning: The `lr` argument is deprecated, use `learning_rate` instead.\n",
            "  super(Adam, self).__init__(name, **kwargs)\n"
          ]
        },
        {
          "output_type": "stream",
          "name": "stdout",
          "text": [
            "Epoch 1/20\n",
            "375/375 [==============================] - 14s 36ms/step - loss: 0.8475 - accuracy: 0.7393 - val_loss: 0.3798 - val_accuracy: 0.9165\n",
            "Epoch 2/20\n",
            "375/375 [==============================] - 13s 35ms/step - loss: 0.3836 - accuracy: 0.8954 - val_loss: 0.2080 - val_accuracy: 0.9416\n",
            "Epoch 3/20\n",
            "375/375 [==============================] - 13s 34ms/step - loss: 0.2773 - accuracy: 0.9240 - val_loss: 0.1591 - val_accuracy: 0.9532\n",
            "Epoch 4/20\n",
            "375/375 [==============================] - 13s 35ms/step - loss: 0.2183 - accuracy: 0.9408 - val_loss: 0.1318 - val_accuracy: 0.9606\n",
            "Epoch 5/20\n",
            "375/375 [==============================] - 13s 35ms/step - loss: 0.1777 - accuracy: 0.9521 - val_loss: 0.1147 - val_accuracy: 0.9648\n",
            "Epoch 6/20\n",
            "375/375 [==============================] - 13s 34ms/step - loss: 0.1487 - accuracy: 0.9595 - val_loss: 0.1009 - val_accuracy: 0.9693\n",
            "Epoch 7/20\n",
            "375/375 [==============================] - 14s 37ms/step - loss: 0.1276 - accuracy: 0.9653 - val_loss: 0.0909 - val_accuracy: 0.9723\n",
            "Epoch 8/20\n",
            "375/375 [==============================] - 13s 34ms/step - loss: 0.1079 - accuracy: 0.9706 - val_loss: 0.0844 - val_accuracy: 0.9749\n",
            "Epoch 9/20\n",
            "375/375 [==============================] - 13s 34ms/step - loss: 0.0919 - accuracy: 0.9745 - val_loss: 0.0807 - val_accuracy: 0.9751\n",
            "Epoch 10/20\n",
            "375/375 [==============================] - 13s 34ms/step - loss: 0.0779 - accuracy: 0.9793 - val_loss: 0.0770 - val_accuracy: 0.9764\n",
            "Epoch 11/20\n",
            "375/375 [==============================] - 13s 34ms/step - loss: 0.0697 - accuracy: 0.9803 - val_loss: 0.0732 - val_accuracy: 0.9774\n",
            "Epoch 12/20\n",
            "375/375 [==============================] - 13s 35ms/step - loss: 0.0625 - accuracy: 0.9832 - val_loss: 0.0715 - val_accuracy: 0.9789\n",
            "Epoch 13/20\n",
            "375/375 [==============================] - 13s 35ms/step - loss: 0.0535 - accuracy: 0.9848 - val_loss: 0.0691 - val_accuracy: 0.9792\n",
            "Epoch 14/20\n",
            "375/375 [==============================] - 13s 34ms/step - loss: 0.0455 - accuracy: 0.9875 - val_loss: 0.0687 - val_accuracy: 0.9797\n",
            "Epoch 15/20\n",
            "375/375 [==============================] - 13s 34ms/step - loss: 0.0401 - accuracy: 0.9887 - val_loss: 0.0674 - val_accuracy: 0.9803\n",
            "Epoch 16/20\n",
            "375/375 [==============================] - 13s 34ms/step - loss: 0.0357 - accuracy: 0.9898 - val_loss: 0.0706 - val_accuracy: 0.9795\n",
            "Epoch 17/20\n",
            "375/375 [==============================] - 13s 34ms/step - loss: 0.0334 - accuracy: 0.9911 - val_loss: 0.0717 - val_accuracy: 0.9798\n",
            "Epoch 18/20\n",
            "375/375 [==============================] - 14s 38ms/step - loss: 0.0302 - accuracy: 0.9912 - val_loss: 0.0703 - val_accuracy: 0.9797\n",
            "Epoch 19/20\n",
            "375/375 [==============================] - 13s 35ms/step - loss: 0.0262 - accuracy: 0.9927 - val_loss: 0.0697 - val_accuracy: 0.9803\n",
            "Epoch 20/20\n",
            "375/375 [==============================] - 13s 34ms/step - loss: 0.0246 - accuracy: 0.9932 - val_loss: 0.0720 - val_accuracy: 0.9798\n"
          ]
        },
        {
          "output_type": "execute_result",
          "data": {
            "text/plain": [
              "<keras.callbacks.History at 0x7f7e06e99190>"
            ]
          },
          "metadata": {},
          "execution_count": 9
        }
      ]
    },
    {
      "cell_type": "code",
      "source": [
        "scores = numb_model.evaluate(x_test, y_test, verbose=1)\n",
        "print(scores)"
      ],
      "metadata": {
        "colab": {
          "base_uri": "https://localhost:8080/"
        },
        "id": "4VUh9TVZE03M",
        "outputId": "2dfb4ed7-af24-465e-d3f9-e994f06cfa23"
      },
      "execution_count": null,
      "outputs": [
        {
          "output_type": "stream",
          "name": "stdout",
          "text": [
            "313/313 [==============================] - 2s 6ms/step - loss: 0.0639 - accuracy: 0.9820\n",
            "[0.06386635452508926, 0.9819999933242798]\n"
          ]
        }
      ]
    },
    {
      "cell_type": "code",
      "source": [
        "numb_model.save_weights('numb_model.1')\n",
        "numb_model.load_weights('numb_model.1')\n",
        "number_7 = image.load_img(\"/content/number_7.jpg\", target_size=(28, 28), color_mode = 'grayscale')\n",
        "number_8 = image.load_img(\"/content/number_8.jpg\", target_size=(28, 28), color_mode = 'grayscale')"
      ],
      "metadata": {
        "id": "cgQooDRCVb5Z"
      },
      "execution_count": null,
      "outputs": []
    },
    {
      "cell_type": "code",
      "source": [
        "number = image.img_to_array(number_7)\n",
        "number8 = image.img_to_array(number_8)\n",
        "number_r = number.reshape(1, 784)\n",
        "number8_r = number8.reshape(1, 784)\n",
        "number_r = number_r.astype('float32')\n",
        "number_r = number_r / 255 \n",
        "number8_r = number8_r.astype('float32')\n",
        "number8_r = number8_r / 255 \n",
        "prediction = numb_model.predict(number_r) \n",
        "prediction8 = numb_model.predict(number8_r) \n",
        "print(prediction)\n",
        "print(prediction8)\n",
        "prediction = np.argmax(prediction) # Получаем индекс самого большого элемента (это итоговая цифра, которую распознала сеть)\n",
        "print(prediction)\n",
        "prediction8 = np.argmax(prediction8) # Получаем индекс самого большого элемента (это итоговая цифра, которую распознала сеть)\n",
        "print(prediction8)"
      ],
      "metadata": {
        "id": "-xrmGyYXcRzE",
        "colab": {
          "base_uri": "https://localhost:8080/"
        },
        "outputId": "6d0515fe-42b4-46fa-a9b7-61ea2ae1ce00"
      },
      "execution_count": null,
      "outputs": [
        {
          "output_type": "stream",
          "name": "stdout",
          "text": [
            "[[3.8766806e-04 3.9594361e-05 2.8500373e-03 3.6035748e-03 2.9222045e-05\n",
            "  3.3332452e-02 1.3160371e-03 2.9096505e-04 9.5222932e-01 5.9211906e-03]]\n",
            "[[5.9615209e-04 1.6727154e-04 4.0670283e-02 4.8233182e-03 2.7707353e-04\n",
            "  1.3103413e-02 1.4502344e-03 3.3660310e-03 9.1740066e-01 1.8145574e-02]]\n",
            "8\n",
            "8\n"
          ]
        }
      ]
    },
    {
      "cell_type": "code",
      "source": [
        "number = number.reshape(1,28, 28)\n",
        "plt.imshow(Image.fromarray(number[0])) # Нарисуем картинку из тестового набора под номером n_rec\n",
        "plt.show()"
      ],
      "metadata": {
        "colab": {
          "base_uri": "https://localhost:8080/",
          "height": 265
        },
        "id": "9xM9OrjJv5Xr",
        "outputId": "730ca603-d7ca-425d-a753-1180185d3bde"
      },
      "execution_count": null,
      "outputs": [
        {
          "output_type": "display_data",
          "data": {
            "text/plain": [
              "<Figure size 432x288 with 1 Axes>"
            ],
            "image/png": "[encoded data removed]"
          },
          "metadata": {
            "needs_background": "light"
          }
        }
      ]
    },
    {
      "cell_type": "code",
      "source": [
        "number8 = number8.reshape(1,28, 28)\n",
        "plt.imshow(Image.fromarray(number8[0])) # Нарисуем картинку из тестового набора под номером n_rec\n",
        "plt.show()"
      ],
      "metadata": {
        "colab": {
          "base_uri": "https://localhost:8080/",
          "height": 265
        },
        "id": "Ko49J1O1v7A8",
        "outputId": "213aa575-403d-4d06-9767-620fa343b0e2"
      },
      "execution_count": null,
      "outputs": [
        {
          "output_type": "display_data",
          "data": {
            "text/plain": [
              "<Figure size 432x288 with 1 Axes>"
            ],
            "image/png": "[encoded data removed]"
          },
          "metadata": {
            "needs_background": "light"
          }
        }
      ]
    }
  ]
}